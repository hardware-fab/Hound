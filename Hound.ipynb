{
 "cells": [
  {
   "cell_type": "markdown",
   "metadata": {},
   "source": [
    "# Hound: Locating Cryptographic Primitives in Desynchronized Side-Channel Traces Using Deep Learning"
   ]
  },
  {
   "cell_type": "code",
   "execution_count": 1,
   "metadata": {},
   "outputs": [],
   "source": [
    "import numpy as np\n",
    "\n",
    "from CNN.train import train \n",
    "from inference_pipeline.sliding_window_classification import getModule, classifyTrace, saveClassification\n",
    "from inference_pipeline.screening import *\n",
    "from inference_pipeline.alignment import alignCps, saveCps\n",
    "from inference_pipeline.debug import *\n",
    "from matplotlib import pyplot as plt"
   ]
  },
  {
   "cell_type": "markdown",
   "metadata": {},
   "source": [
    "## Train CNN"
   ]
  },
  {
   "cell_type": "markdown",
   "metadata": {},
   "source": [
    "Each CNN is configure thanks to a YALM configuration file.  \n",
    "You can set different module hyper-parameters as well as the dataset, the logger, and the experiment configurations.  \n",
    "Default configuration are in `CNN/configs` directory, both for Neputune logger and for the experiment. "
   ]
  },
  {
   "cell_type": "code",
   "execution_count": null,
   "metadata": {},
   "outputs": [],
   "source": [
    "config_folder = \"CNN/configs/exp/\" # /path/to/experiment/config/folder/\n",
    "train(config_folder)"
   ]
  },
  {
   "cell_type": "markdown",
   "metadata": {},
   "source": [
    "## Sliding Window Classification"
   ]
  },
  {
   "cell_type": "code",
   "execution_count": null,
   "metadata": {},
   "outputs": [],
   "source": [
    "SID = \"<Neptune_SID>\"\n",
    "trace_file = \"</path/to/trace_file>\"\n",
    "classification_output_file = \"</path/to/output_file>\""
   ]
  },
  {
   "cell_type": "markdown",
   "metadata": {},
   "source": [
    "Get the trained CNN starting from Neptune SID."
   ]
  },
  {
   "cell_type": "code",
   "execution_count": null,
   "metadata": {},
   "outputs": [],
   "source": [
    "module = getModule(SID)"
   ]
  },
  {
   "cell_type": "markdown",
   "metadata": {},
   "source": [
    "Compute and save segmentation as file `output_file`.  \n",
    "Function _classifyTrace_ has a few parameters to configure based on the experiment:\n",
    "- `stride`: Define the stride to use for the sliding window.\n",
    "- `window_size`: Define the size of the sliding window itself."
   ]
  },
  {
   "cell_type": "code",
   "execution_count": 4,
   "metadata": {},
   "outputs": [],
   "source": [
    "window_size = 10_000\n",
    "stride = 62"
   ]
  },
  {
   "cell_type": "code",
   "execution_count": null,
   "metadata": {},
   "outputs": [],
   "source": [
    "classifications = classifyTrace(trace_file, module, stride, window_size, gpu=1)\n",
    "saveClassification(classifications, classification_output_file)"
   ]
  },
  {
   "cell_type": "markdown",
   "metadata": {},
   "source": [
    "## Screening"
   ]
  },
  {
   "cell_type": "markdown",
   "metadata": {},
   "source": [
    "Screen the classification output and find the starting sample of each cryptographic primitive."
   ]
  },
  {
   "cell_type": "code",
   "execution_count": 36,
   "metadata": {},
   "outputs": [],
   "source": [
    "stride = 62 # same as input of Sliding Window Classification\n",
    "classification_file =  \"</path/to/classification_output_file>\"\n",
    "gt_file = \"</path/to/gt_file>\"\n",
    "\n",
    "gt = np.load(gt_file)\n",
    "classifications = np.load(classification_file, mmap_mode='r')\n",
    "\n",
    "avg_cp_lenght = 145_000\n",
    "major_filter_size = 150"
   ]
  },
  {
   "cell_type": "code",
   "execution_count": null,
   "metadata": {},
   "outputs": [],
   "source": [
    "CPs = []\n",
    "for classification in classifications:\n",
    "    CPs.append(segment(classification, major_filter_size, stride, avg_cp_lenght))\n",
    "\n",
    "fp, fn = errorCount(gt[0], np.asarray(CPs[0]), stride)\n",
    "print(f\"Errors: {fp+fn} ({fn} false negatives, {fp} false positives)\")"
   ]
  },
  {
   "cell_type": "markdown",
   "metadata": {},
   "source": [
    "### Visualization\n",
    "\n",
    "Visualize the detected CP and ground truth (GT) for a given trace.\n",
    "\n",
    "**First Subplot**: Draws black vertical lines for detected CP and red dashed vertical lines for GT.  \n",
    "**Second Subplot**: Plots classification for each point in the trace."
   ]
  },
  {
   "cell_type": "code",
   "execution_count": null,
   "metadata": {},
   "outputs": [],
   "source": [
    "n_trace = 0\n",
    "center = 100_000\n",
    "margin = 15_000\n",
    "lim = (center-margin, center+margin)\n",
    "\n",
    "fig, ax = plt.subplots(2, figsize=(15, 5))\n",
    "\n",
    "ax[0].set_xlim(lim)\n",
    "# Plot vertical lines for found CPs\n",
    "for sample in CPs[n_trace][1:]:\n",
    "    ax[0].axvline(x=sample, color='black', linestyle='-')\n",
    "ax[0].axvline(x=CPs[n_trace][0], color='black', linestyle='-', label='Found CP')\n",
    "# Plot vertical lines for gt\n",
    "for sample in gt[n_trace, 1:]:\n",
    "    ax[0].axvline(x=sample//stride, color='r', linestyle='--')\n",
    "ax[0].axvline(x=gt[n_trace, 0]//stride, color='r', linestyle='--', label='Ground Truth')\n",
    "ax[0].legend(loc='lower right', bbox_to_anchor=(1, 0.95))\n",
    "\n",
    "ax[1].set_xlim(lim)\n",
    "ax[1].plot(np.argmax(classifications[n_trace], axis=1))"
   ]
  },
  {
   "cell_type": "markdown",
   "metadata": {},
   "source": [
    "## Alignment"
   ]
  },
  {
   "cell_type": "markdown",
   "metadata": {},
   "source": [
    "Align in time the found CPs.  \n",
    "Some parameters, such as _slide_, has to be set as used in sliding window classification."
   ]
  },
  {
   "cell_type": "code",
   "execution_count": null,
   "metadata": {},
   "outputs": [],
   "source": [
    "trace_file =  \"</path/to/trace_file>\" # same as input of Sliding Window Classification\n",
    "aligned_output_file = \"</path/to/output_file>\"\n",
    "stride = 62 # same as input of Sliding Window Classification"
   ]
  },
  {
   "cell_type": "code",
   "execution_count": null,
   "metadata": {},
   "outputs": [],
   "source": [
    "trace =  np.load(trace_file)\n",
    "alligned = alignCps(trace, CPs, stride)\n",
    "saveCps(alligned, aligned_output_file)"
   ]
  }
 ],
 "metadata": {
  "kernelspec": {
   "display_name": "hound_test",
   "language": "python",
   "name": "python3"
  },
  "language_info": {
   "codemirror_mode": {
    "name": "ipython",
    "version": 3
   },
   "file_extension": ".py",
   "mimetype": "text/x-python",
   "name": "python",
   "nbconvert_exporter": "python",
   "pygments_lexer": "ipython3",
   "version": "3.11.7"
  }
 },
 "nbformat": 4,
 "nbformat_minor": 2
}
